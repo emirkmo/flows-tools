{
 "cells": [
  {
   "cell_type": "code",
   "execution_count": 90,
   "metadata": {},
   "outputs": [],
   "source": [
    "from flows import api, load_config"
   ]
  },
  {
   "cell_type": "code",
   "execution_count": 2,
   "metadata": {},
   "outputs": [],
   "source": [
    "config = load_config()"
   ]
  },
  {
   "cell_type": "code",
   "execution_count": 3,
   "metadata": {},
   "outputs": [],
   "source": [
    "tgts = api.get_targets()"
   ]
  },
  {
   "cell_type": "code",
   "execution_count": 4,
   "metadata": {},
   "outputs": [],
   "source": [
    "import pandas as pd"
   ]
  },
  {
   "cell_type": "code",
   "execution_count": 67,
   "metadata": {},
   "outputs": [],
   "source": [
    "#for row in df['ztf_id']:\n",
    "#    if pd.isna(row):\n",
    "#        print('non-ztf')\n",
    "#    else:\n",
    "#        print('ztf')"
   ]
  },
  {
   "cell_type": "code",
   "execution_count": 79,
   "metadata": {},
   "outputs": [],
   "source": [
    "df = pd.DataFrame(tgts)\n",
    "df['survey'] = df.apply(lambda x: 'none/other' if pd.isna(x['ztf_id']) else 'ztf', axis=1)"
   ]
  },
  {
   "cell_type": "code",
   "execution_count": 80,
   "metadata": {},
   "outputs": [],
   "source": [
    "dft = df[(df['target_status'] == 'target') & (df['project']=='flows')]"
   ]
  },
  {
   "cell_type": "code",
   "execution_count": 81,
   "metadata": {},
   "outputs": [
    {
     "data": {
      "text/html": [
       "<div>\n",
       "<style scoped>\n",
       "    .dataframe tbody tr th:only-of-type {\n",
       "        vertical-align: middle;\n",
       "    }\n",
       "\n",
       "    .dataframe tbody tr th {\n",
       "        vertical-align: top;\n",
       "    }\n",
       "\n",
       "    .dataframe thead th {\n",
       "        text-align: right;\n",
       "    }\n",
       "</style>\n",
       "<table border=\"1\" class=\"dataframe\">\n",
       "  <thead>\n",
       "    <tr style=\"text-align: right;\">\n",
       "      <th></th>\n",
       "      <th>target_name</th>\n",
       "      <th>targetid</th>\n",
       "      <th>ra</th>\n",
       "      <th>decl</th>\n",
       "      <th>catalog_downloaded</th>\n",
       "      <th>discovery_mag</th>\n",
       "      <th>inserted</th>\n",
       "      <th>redshift</th>\n",
       "      <th>redshift_error</th>\n",
       "      <th>discovery_date</th>\n",
       "      <th>project</th>\n",
       "      <th>host_galaxy</th>\n",
       "      <th>ztf_id</th>\n",
       "      <th>target_status</th>\n",
       "      <th>survey</th>\n",
       "    </tr>\n",
       "  </thead>\n",
       "  <tbody>\n",
       "    <tr>\n",
       "      <th>3</th>\n",
       "      <td>2020oij</td>\n",
       "      <td>10</td>\n",
       "      <td>328.123800</td>\n",
       "      <td>42.906882</td>\n",
       "      <td>True</td>\n",
       "      <td>18.2600</td>\n",
       "      <td>2020-09-18 11:13:29.821990</td>\n",
       "      <td>0.0210</td>\n",
       "      <td>0.01</td>\n",
       "      <td>2020-07-09 11:41:19.000</td>\n",
       "      <td>flows</td>\n",
       "      <td>None</td>\n",
       "      <td>ZTF20abkdpsy</td>\n",
       "      <td>target</td>\n",
       "      <td>ztf</td>\n",
       "    </tr>\n",
       "    <tr>\n",
       "      <th>7</th>\n",
       "      <td>2020tug</td>\n",
       "      <td>18</td>\n",
       "      <td>359.866169</td>\n",
       "      <td>17.865214</td>\n",
       "      <td>True</td>\n",
       "      <td>20.6650</td>\n",
       "      <td>2020-10-19 09:56:19.613496</td>\n",
       "      <td>0.0500</td>\n",
       "      <td>NaN</td>\n",
       "      <td>2020-09-19 08:47:06.000</td>\n",
       "      <td>flows</td>\n",
       "      <td>SDSS J235927.40+175153.7</td>\n",
       "      <td>ZTF20acbovrt</td>\n",
       "      <td>target</td>\n",
       "      <td>ztf</td>\n",
       "    </tr>\n",
       "    <tr>\n",
       "      <th>11</th>\n",
       "      <td>2020uly</td>\n",
       "      <td>22</td>\n",
       "      <td>84.822415</td>\n",
       "      <td>63.641747</td>\n",
       "      <td>True</td>\n",
       "      <td>19.8397</td>\n",
       "      <td>2020-10-19 10:05:21.740483</td>\n",
       "      <td>0.0365</td>\n",
       "      <td>NaN</td>\n",
       "      <td>2020-09-28 08:54:42.998</td>\n",
       "      <td>flows</td>\n",
       "      <td>SDSS J053917.06+633832.0</td>\n",
       "      <td>ZTF20acfviac</td>\n",
       "      <td>target</td>\n",
       "      <td>ztf</td>\n",
       "    </tr>\n",
       "    <tr>\n",
       "      <th>12</th>\n",
       "      <td>2020xba</td>\n",
       "      <td>23</td>\n",
       "      <td>107.828742</td>\n",
       "      <td>44.379534</td>\n",
       "      <td>True</td>\n",
       "      <td>20.6400</td>\n",
       "      <td>2020-10-19 10:05:23.108215</td>\n",
       "      <td>0.0400</td>\n",
       "      <td>NaN</td>\n",
       "      <td>2020-10-13 11:42:36.288</td>\n",
       "      <td>flows</td>\n",
       "      <td>None</td>\n",
       "      <td>ZTF20acjhhqx</td>\n",
       "      <td>target</td>\n",
       "      <td>ztf</td>\n",
       "    </tr>\n",
       "    <tr>\n",
       "      <th>18</th>\n",
       "      <td>2020uvd</td>\n",
       "      <td>29</td>\n",
       "      <td>24.767741</td>\n",
       "      <td>75.323394</td>\n",
       "      <td>True</td>\n",
       "      <td>18.5400</td>\n",
       "      <td>2020-10-19 10:05:31.893755</td>\n",
       "      <td>0.0360</td>\n",
       "      <td>NaN</td>\n",
       "      <td>2020-10-04 10:06:14.400</td>\n",
       "      <td>flows</td>\n",
       "      <td>None</td>\n",
       "      <td>ZTF20acehyxd</td>\n",
       "      <td>target</td>\n",
       "      <td>ztf</td>\n",
       "    </tr>\n",
       "  </tbody>\n",
       "</table>\n",
       "</div>"
      ],
      "text/plain": [
       "   target_name  targetid          ra       decl  catalog_downloaded  \\\n",
       "3      2020oij        10  328.123800  42.906882                True   \n",
       "7      2020tug        18  359.866169  17.865214                True   \n",
       "11     2020uly        22   84.822415  63.641747                True   \n",
       "12     2020xba        23  107.828742  44.379534                True   \n",
       "18     2020uvd        29   24.767741  75.323394                True   \n",
       "\n",
       "    discovery_mag                   inserted  redshift  redshift_error  \\\n",
       "3         18.2600 2020-09-18 11:13:29.821990    0.0210            0.01   \n",
       "7         20.6650 2020-10-19 09:56:19.613496    0.0500             NaN   \n",
       "11        19.8397 2020-10-19 10:05:21.740483    0.0365             NaN   \n",
       "12        20.6400 2020-10-19 10:05:23.108215    0.0400             NaN   \n",
       "18        18.5400 2020-10-19 10:05:31.893755    0.0360             NaN   \n",
       "\n",
       "             discovery_date project               host_galaxy        ztf_id  \\\n",
       "3   2020-07-09 11:41:19.000   flows                      None  ZTF20abkdpsy   \n",
       "7   2020-09-19 08:47:06.000   flows  SDSS J235927.40+175153.7  ZTF20acbovrt   \n",
       "11  2020-09-28 08:54:42.998   flows  SDSS J053917.06+633832.0  ZTF20acfviac   \n",
       "12  2020-10-13 11:42:36.288   flows                      None  ZTF20acjhhqx   \n",
       "18  2020-10-04 10:06:14.400   flows                      None  ZTF20acehyxd   \n",
       "\n",
       "   target_status survey  \n",
       "3         target    ztf  \n",
       "7         target    ztf  \n",
       "11        target    ztf  \n",
       "12        target    ztf  \n",
       "18        target    ztf  "
      ]
     },
     "execution_count": 81,
     "metadata": {},
     "output_type": "execute_result"
    }
   ],
   "source": [
    "dft.describe()\n",
    "dft.head()"
   ]
  },
  {
   "cell_type": "code",
   "execution_count": 82,
   "metadata": {},
   "outputs": [],
   "source": [
    "import plotly.express as px\n",
    "from jupyter_dash import JupyterDash\n",
    "from dash import dcc\n",
    "from dash import html\n",
    "from dash.dependencies import Input, Output"
   ]
  },
  {
   "cell_type": "code",
   "execution_count": 83,
   "metadata": {},
   "outputs": [],
   "source": [
    "# code and plot setup\n",
    "# settings\n",
    "pd.options.plotting.backend = \"plotly\"\n"
   ]
  },
  {
   "cell_type": "code",
   "execution_count": 85,
   "metadata": {},
   "outputs": [],
   "source": [
    "import numpy as np\n",
    "\n",
    "#np.histogram()\n",
    "#import matplotlib.pyplot as plt\n",
    "fig = px.histogram(data_frame=dft,x='redshift',\n",
    "                   hover_data=['target_name'],\n",
    "                   nbins=15,color='survey',marginal='rug')\n",
    "#plt.bar()"
   ]
  },
  {
   "cell_type": "code",
   "execution_count": 77,
   "metadata": {},
   "outputs": [],
   "source": [
    "#fig = df.plot(x='redshift',kind='bar',template = 'plotly_dark')"
   ]
  },
  {
   "cell_type": "code",
   "execution_count": 89,
   "metadata": {},
   "outputs": [
    {
     "name": "stdout",
     "output_type": "stream",
     "text": [
      "Dash app running on http://127.0.0.1:8050/\n"
     ]
    },
    {
     "name": "stderr",
     "output_type": "stream",
     "text": [
      "/opt/anaconda3/envs/flows/lib/python3.7/site-packages/jupyter_dash/jupyter_app.py:139: UserWarning:\n",
      "\n",
      "The 'environ['werkzeug.server.shutdown']' function is deprecated and will be removed in Werkzeug 2.1.\n",
      "\n"
     ]
    }
   ],
   "source": [
    "app = JupyterDash(__name__)\n",
    "app.layout = html.Div([\n",
    "    #html.H1(\"Random datastream\"),\n",
    "    #        dcc.Interval(\n",
    "    #        id='interval-component',\n",
    "    #        interval=1*1000, # in milliseconds\n",
    "    #        n_intervals=0\n",
    "    #    ),\n",
    "    html.H1(children='Flows Dashboard'),\n",
    "    html.Div(children='Redshift distribution'),\n",
    "    dcc.Graph(\n",
    "        id='redshift-distribution',\n",
    "        figure=fig\n",
    "    )\n",
    "])\n",
    "app.run_server(debug=True, use_reloader=False)"
   ]
  },
  {
   "cell_type": "code",
   "execution_count": 87,
   "metadata": {},
   "outputs": [
    {
     "ename": "ModuleNotFoundError",
     "evalue": "No module named 'chart_studio'",
     "output_type": "error",
     "traceback": [
      "\u001b[0;31m---------------------------------------------------------------------------\u001b[0m",
      "\u001b[0;31mModuleNotFoundError\u001b[0m                       Traceback (most recent call last)",
      "\u001b[0;32m<ipython-input-87-85c37963ac46>\u001b[0m in \u001b[0;36m<module>\u001b[0;34m\u001b[0m\n\u001b[0;32m----> 1\u001b[0;31m \u001b[0;32mimport\u001b[0m \u001b[0mchart_studio\u001b[0m\u001b[0;34m.\u001b[0m\u001b[0mplotly\u001b[0m \u001b[0;32mas\u001b[0m \u001b[0mcs\u001b[0m\u001b[0;34m\u001b[0m\u001b[0;34m\u001b[0m\u001b[0m\n\u001b[0m\u001b[1;32m      2\u001b[0m \u001b[0;31m# Learn about API authentication here: https://plotly.com/python/getting-started\u001b[0m\u001b[0;34m\u001b[0m\u001b[0;34m\u001b[0m\u001b[0;34m\u001b[0m\u001b[0m\n\u001b[1;32m      3\u001b[0m \u001b[0;31m# Find your api_key here: https://plotly.com/settings/api\u001b[0m\u001b[0;34m\u001b[0m\u001b[0;34m\u001b[0m\u001b[0;34m\u001b[0m\u001b[0m\n\u001b[1;32m      4\u001b[0m \u001b[0;34m\u001b[0m\u001b[0m\n\u001b[1;32m      5\u001b[0m \u001b[0mskychart\u001b[0m \u001b[0;34m=\u001b[0m \u001b[0mcs\u001b[0m\u001b[0;34m.\u001b[0m\u001b[0mget_figure\u001b[0m\u001b[0;34m(\u001b[0m\u001b[0;34m\"https://chart-studio.plotly.com/~db23229/8\"\u001b[0m\u001b[0;34m)\u001b[0m\u001b[0;34m\u001b[0m\u001b[0;34m\u001b[0m\u001b[0m\n",
      "\u001b[0;31mModuleNotFoundError\u001b[0m: No module named 'chart_studio'"
     ]
    }
   ],
   "source": [
    "import chart_studio.plotly as cs\n",
    "# Learn about API authentication here: https://plotly.com/python/getting-started\n",
    "# Find your api_key here: https://plotly.com/settings/api\n",
    "\n",
    "#skychart = cs.get_figure(\"https://chart-studio.plotly.com/~db23229/8\")\n",
    "\n",
    "#fig['layout']['title'] = \"Never forget that title!\"\n",
    "#skychart"
   ]
  },
  {
   "cell_type": "code",
   "execution_count": 88,
   "metadata": {},
   "outputs": [
    {
     "data": {
      "application/vnd.plotly.v1+json": {
       "config": {
        "plotlyServerURL": "https://plot.ly"
       },
       "data": [
        {
         "alignmentgroup": "True",
         "bingroup": "x",
         "hovertemplate": "survey=ztf<br>redshift=%{x}<br>count=%{y}<extra></extra>",
         "legendgroup": "ztf",
         "marker": {
          "color": "#636efa",
          "pattern": {
           "shape": ""
          }
         },
         "name": "ztf",
         "nbinsx": 15,
         "offsetgroup": "ztf",
         "orientation": "v",
         "showlegend": true,
         "type": "histogram",
         "x": [
          0.021,
          0.05,
          0.0365,
          0.04,
          0.036,
          0.076,
          0.016,
          0.008246,
          0.007,
          0.01787,
          0.017,
          0.06,
          0.01335,
          0.04,
          0.037,
          0.03496,
          0.00761,
          null,
          null,
          null,
          null,
          null,
          null,
          null,
          null,
          null,
          null,
          0.063152,
          0.05,
          0.073,
          0.04,
          0.06017,
          0.06,
          0.08,
          0.08,
          0.02,
          0.07,
          0.01,
          0.0672,
          0.055,
          0.051,
          0.04,
          0.02,
          0.04,
          0.06,
          0.059,
          0.05,
          0.095,
          0.03,
          0.01525,
          0.03943,
          0.041408,
          0.008029,
          0.026218,
          0.031,
          0.035428,
          0.017072,
          0.057,
          0.06,
          0.079,
          0.09,
          0.063,
          0.06,
          0.062,
          0.077,
          0.041,
          0.025,
          0.0388224,
          0.03889,
          0.03,
          0.067,
          0.063,
          0.082,
          0.0518,
          0.055008,
          0.07,
          0.06,
          0.054,
          0.06,
          0.01512,
          0.045795,
          0.05456,
          0.069,
          0.05,
          0.045,
          0.002388,
          0.078,
          0.0454,
          0.0410648,
          0.06,
          0.05,
          0.06569,
          0.0244,
          0.06,
          0.01552,
          0.05,
          0.05,
          0.09,
          0.087927,
          0.016348,
          0.016385,
          0.0512,
          0.068197,
          0.027,
          0.03231,
          0.03,
          0.016,
          0.05,
          0.07,
          0.07,
          0.07,
          0.046118,
          0.05,
          0.076427,
          0.04918,
          0.07,
          0.025,
          0.076,
          0.07,
          0.045,
          0.067496,
          0.03,
          0.080178,
          0.08,
          0.089,
          0.09562,
          0.055,
          0.023,
          0.0182,
          0.026872,
          0.021515,
          0.08,
          0.06,
          0.069,
          0.0646,
          0.045,
          0.06,
          0.034014,
          0.042,
          0.039,
          0.078297,
          0.04,
          0.07484,
          0.053072,
          0.042,
          0.049312,
          0.036,
          0.054,
          0.02,
          0.041585,
          0.054224,
          0.097049,
          0.049405,
          0.036705,
          0.033416,
          0.056,
          0.06,
          0.046105,
          0.012,
          0.025,
          0.068,
          0.065078,
          0.016355,
          0.06,
          0.057,
          0.031,
          0.04,
          0.056,
          0.035,
          0.08,
          0.07023,
          0.055612,
          0.04887,
          0.0094,
          0.06885,
          0.0358,
          0.04,
          0.081438,
          0.046,
          0.054,
          0.019685,
          0.056,
          0.03206,
          0.029,
          0.043,
          0.07,
          0.003319,
          0.035,
          0.009346,
          0.03,
          0.016,
          0.036912,
          0.056,
          0.069,
          0.020538,
          0.08,
          0.031362,
          0.033898,
          0.053,
          0.021958,
          0.04,
          0.021,
          0.0559,
          0.040978,
          0.073,
          0.0381178,
          0.0414613,
          0.069675,
          0.03,
          0.076,
          0.036,
          0.064524,
          0.079,
          0.039074,
          0.065,
          0.08067,
          0.03676,
          0.03921,
          0.038,
          0.003506,
          0.044,
          0.061,
          0.021612,
          0.073,
          0.012,
          0.05,
          0.074,
          0.036673,
          0.0543,
          0.035,
          0.070063,
          0.04,
          0.097,
          0.046,
          0.08,
          0.05728,
          0.04929,
          0.02566,
          0.07295,
          0.052,
          0.083,
          0.072,
          0.0576,
          0.068,
          0.058086,
          0.05,
          0.074,
          0.059,
          0.046247,
          0.063,
          0.1,
          0.09,
          0.07521,
          0.06,
          0.06,
          0.0485,
          0.096,
          0.031,
          0.09,
          0.076,
          0.068,
          0.044,
          0.064,
          0.088,
          0.0378,
          0.05,
          0.033,
          0.066,
          0.041,
          0.026657,
          0.085,
          0.072,
          0.103,
          0.039,
          0.0426,
          0.022609,
          0.108,
          0.04,
          0.064,
          0.057216,
          0.04,
          0.079,
          0.067693,
          0.0645,
          0.083,
          0.041,
          0.037569,
          0.055,
          0.052334,
          0.064,
          0.044678,
          0.067,
          0.080257,
          0.059374,
          0.049204,
          0.051,
          0.051,
          0.09,
          0.05558,
          0.068,
          0.07
         ],
         "xaxis": "x",
         "yaxis": "y"
        },
        {
         "alignmentgroup": "True",
         "boxpoints": "all",
         "customdata": [
          [
           "2020oij"
          ],
          [
           "2020tug"
          ],
          [
           "2020uly"
          ],
          [
           "2020xba"
          ],
          [
           "2020uvd"
          ],
          [
           "2020uma"
          ],
          [
           "2020uec"
          ],
          [
           "2020uxz"
          ],
          [
           "2020wtq"
          ],
          [
           "2020vey"
          ],
          [
           "2020vaw"
          ],
          [
           "2020vdm"
          ],
          [
           "2020ssf"
          ],
          [
           "2020wob"
          ],
          [
           "2020xqb"
          ],
          [
           "2020wgr"
          ],
          [
           "2020xtz"
          ],
          [
           "2020szr"
          ],
          [
           "2020tcp"
          ],
          [
           "2020thn"
          ],
          [
           "2020tnw"
          ],
          [
           "2020tdp"
          ],
          [
           "2020stk"
          ],
          [
           "2020svi"
          ],
          [
           "2020tfd"
          ],
          [
           "2020svo"
          ],
          [
           "2020tfg"
          ],
          [
           "2020ytj"
          ],
          [
           "2020yxd"
          ],
          [
           "2020yyg"
          ],
          [
           "2020zhh"
          ],
          [
           "2020yss"
          ],
          [
           "2020yhd"
          ],
          [
           "2020yyk"
          ],
          [
           "2020ymv"
          ],
          [
           "2020zmi"
          ],
          [
           "2020yji"
          ],
          [
           "2020yvu"
          ],
          [
           "2020yzs"
          ],
          [
           "2020yjf"
          ],
          [
           "2020zko"
          ],
          [
           "2020zjn"
          ],
          [
           "2020zkt"
          ],
          [
           "2020zpi"
          ],
          [
           "2020zpe"
          ],
          [
           "2020zyy"
          ],
          [
           "2020aafx"
          ],
          [
           "2020zka"
          ],
          [
           "2020aabz"
          ],
          [
           "2020aatc"
          ],
          [
           "2020aauk"
          ],
          [
           "2020zgu"
          ],
          [
           "2020abgq"
          ],
          [
           "2020abdv"
          ],
          [
           "2020abfa"
          ],
          [
           "2020aboj"
          ],
          [
           "2020acch"
          ],
          [
           "2020abqy"
          ],
          [
           "2020aajo"
          ],
          [
           "2020abjl"
          ],
          [
           "2020acae"
          ],
          [
           "2020aajf"
          ],
          [
           "2020acsn"
          ],
          [
           "2020abkq"
          ],
          [
           "2020acaf"
          ],
          [
           "2020abom"
          ],
          [
           "2020aczg"
          ],
          [
           "2020acpb"
          ],
          [
           "2020abcl"
          ],
          [
           "2020aawr"
          ],
          [
           "2020aced"
          ],
          [
           "2020ackf"
          ],
          [
           "2020acei"
          ],
          [
           "2020acdo"
          ],
          [
           "2020aden"
          ],
          [
           "2020adcp"
          ],
          [
           "2020acmm"
          ],
          [
           "2020abox"
          ],
          [
           "2020acts"
          ],
          [
           "2020adcb"
          ],
          [
           "2020actp"
          ],
          [
           "2020adld"
          ],
          [
           "2020acrz"
          ],
          [
           "2020adhi"
          ],
          [
           "2020adfe"
          ],
          [
           "2021J"
          ],
          [
           "2021aq"
          ],
          [
           "2021T"
          ],
          [
           "2020adjx"
          ],
          [
           "2021gl"
          ],
          [
           "2020aerb"
          ],
          [
           "2021F"
          ],
          [
           "2020aeps"
          ],
          [
           "2021mw"
          ],
          [
           "2021dn"
          ],
          [
           "2020adqu"
          ],
          [
           "2021cp"
          ],
          [
           "2021pp"
          ],
          [
           "2021cn"
          ],
          [
           "2021pc"
          ],
          [
           "2021K"
          ],
          [
           "2021G"
          ],
          [
           "2020adqq"
          ],
          [
           "2020adeu"
          ],
          [
           "2021ix"
          ],
          [
           "2021wh"
          ],
          [
           "2021xn"
          ],
          [
           "2021ls"
          ],
          [
           "2021abi"
          ],
          [
           "2021zs"
          ],
          [
           "2021qy"
          ],
          [
           "2021yr"
          ],
          [
           "2021vk"
          ],
          [
           "2021gd"
          ],
          [
           "2021aqq"
          ],
          [
           "2021jb"
          ],
          [
           "2021aip"
          ],
          [
           "2021zu"
          ],
          [
           "2021dj"
          ],
          [
           "2021aid"
          ],
          [
           "2021ajy"
          ],
          [
           "2021zo"
          ],
          [
           "2021rx"
          ],
          [
           "2021tk"
          ],
          [
           "2021lr"
          ],
          [
           "2021qj"
          ],
          [
           "2021bmy"
          ],
          [
           "2021bbz"
          ],
          [
           "2021bkw"
          ],
          [
           "2021blp"
          ],
          [
           "2021biz"
          ],
          [
           "2021bmr"
          ],
          [
           "2021bpn"
          ],
          [
           "2021cbp"
          ],
          [
           "2021bsx"
          ],
          [
           "2021ble"
          ],
          [
           "2021btd"
          ],
          [
           "2021ckg"
          ],
          [
           "2021btm"
          ],
          [
           "2021clz"
          ],
          [
           "2021cdi"
          ],
          [
           "2021cym"
          ],
          [
           "2021cjc"
          ],
          [
           "2021ckc"
          ],
          [
           "2021dcu"
          ],
          [
           "2021del"
          ],
          [
           "2021ddh"
          ],
          [
           "2021dam"
          ],
          [
           "2021dch"
          ],
          [
           "2021dit"
          ],
          [
           "2021dev"
          ],
          [
           "2021ddu"
          ],
          [
           "2021ctk"
          ],
          [
           "2021dae"
          ],
          [
           "2021dlb"
          ],
          [
           "2021dnl"
          ],
          [
           "2021cyn"
          ],
          [
           "2021dnm"
          ],
          [
           "2021dov"
          ],
          [
           "2021dsb"
          ],
          [
           "2021ecu"
          ],
          [
           "2021ecv"
          ],
          [
           "2021dpu"
          ],
          [
           "2021egg"
          ],
          [
           "2021fbc"
          ],
          [
           "2021epv"
          ],
          [
           "2021feu"
          ],
          [
           "2021fco"
          ],
          [
           "2021fqb"
          ],
          [
           "2021fbd"
          ],
          [
           "2021eir"
          ],
          [
           "2021fnx"
          ],
          [
           "2021fwz"
          ],
          [
           "2021fxy"
          ],
          [
           "2021fqk"
          ],
          [
           "2021fnt"
          ],
          [
           "2021fof"
          ],
          [
           "2021gcw"
          ],
          [
           "2021ghc"
          ],
          [
           "2021epq"
          ],
          [
           "2021gtp"
          ],
          [
           "2021fck"
          ],
          [
           "2021gez"
          ],
          [
           "2021glv"
          ],
          [
           "2021gkk"
          ],
          [
           "2021fwy"
          ],
          [
           "2021hiz"
          ],
          [
           "2021hem"
          ],
          [
           "2021hpr"
          ],
          [
           "2021jap"
          ],
          [
           "2021ixi"
          ],
          [
           "2021ipb"
          ],
          [
           "2021kjj"
          ],
          [
           "2021kpu"
          ],
          [
           "2021koq"
          ],
          [
           "2021lhs"
          ],
          [
           "2021kut"
          ],
          [
           "2021lat"
          ],
          [
           "2021lhz"
          ],
          [
           "2021low"
          ],
          [
           "2021lug"
          ],
          [
           "2021jvs"
          ],
          [
           "2021lsv"
          ],
          [
           "2021lvk"
          ],
          [
           "2021lrp"
          ],
          [
           "2021mim"
          ],
          [
           "2021mid"
          ],
          [
           "2021lvg"
          ],
          [
           "2021mnd"
          ],
          [
           "2021mvl"
          ],
          [
           "2021ogs"
          ],
          [
           "2021nyt"
          ],
          [
           "2021oan"
          ],
          [
           "2021oez"
          ],
          [
           "2021ooe"
          ],
          [
           "2021ojn"
          ],
          [
           "2021pqk"
          ],
          [
           "2021rcp"
          ],
          [
           "2021qxu"
          ],
          [
           "2021rhu"
          ],
          [
           "2021rta"
          ],
          [
           "2021res"
          ],
          [
           "2021ryz"
          ],
          [
           "2021rce"
          ],
          [
           "2021soe"
          ],
          [
           "2021sfh"
          ],
          [
           "2021sry"
          ],
          [
           "2021sqe"
          ],
          [
           "2021sve"
          ],
          [
           "2021thm"
          ],
          [
           "2021tey"
          ],
          [
           "2021tol"
          ],
          [
           "2021sis"
          ],
          [
           "2021tnt"
          ],
          [
           "2021stz"
          ],
          [
           "2021sub"
          ],
          [
           "2021tif"
          ],
          [
           "2021tmf"
          ],
          [
           "2021tfx"
          ],
          [
           "2021tjc"
          ],
          [
           "2021tnd"
          ],
          [
           "2021tth"
          ],
          [
           "2021uib"
          ],
          [
           "2021ttg"
          ],
          [
           "2021tix"
          ],
          [
           "2021tgb"
          ],
          [
           "2021udt"
          ],
          [
           "2021ucq"
          ],
          [
           "2021uhx"
          ],
          [
           "2021udw"
          ],
          [
           "2021tpf"
          ],
          [
           "2021tis"
          ],
          [
           "2021uhl"
          ],
          [
           "2021ujo"
          ],
          [
           "2021umd"
          ],
          [
           "2021ums"
          ],
          [
           "2021ttc"
          ],
          [
           "2021uvb"
          ],
          [
           "2021uga"
          ],
          [
           "2021umz"
          ],
          [
           "2021uvj"
          ],
          [
           "2021uyi"
          ],
          [
           "2021uns"
          ],
          [
           "2021uhe"
          ],
          [
           "2021vil"
          ],
          [
           "2021vla"
          ],
          [
           "2021vjx"
          ],
          [
           "2021vjz"
          ],
          [
           "2021vnx"
          ],
          [
           "2021vju"
          ],
          [
           "2021vrb"
          ],
          [
           "2021vts"
          ],
          [
           "2021vgz"
          ],
          [
           "2021udv"
          ],
          [
           "2021wyw"
          ],
          [
           "2021wwg"
          ],
          [
           "2021vcz"
          ],
          [
           "2021wyd"
          ],
          [
           "2021xab"
          ],
          [
           "2021wzt"
          ],
          [
           "2021xel"
          ],
          [
           "2021xes"
          ],
          [
           "2021xan"
          ],
          [
           "2021wyz"
          ],
          [
           "2021xlj"
          ],
          [
           "2021xsm"
          ],
          [
           "2021xmz"
          ],
          [
           "2021xeo"
          ],
          [
           "2021xkm"
          ],
          [
           "2021xvg"
          ],
          [
           "2021xzl"
          ],
          [
           "2021xli"
          ],
          [
           "2021xxk"
          ],
          [
           "2021ymm"
          ],
          [
           "2021ylh"
          ],
          [
           "2021yhi"
          ],
          [
           "2021ymn"
          ],
          [
           "2021ybw"
          ],
          [
           "2021xzk"
          ],
          [
           "2021yrz"
          ],
          [
           "2021yno"
          ]
         ],
         "fillcolor": "rgba(255,255,255,0)",
         "hoveron": "points",
         "hovertemplate": "survey=ztf<br>redshift=%{x}<br>target_name=%{customdata[0]}<extra></extra>",
         "jitter": 0,
         "legendgroup": "ztf",
         "line": {
          "color": "rgba(255,255,255,0)"
         },
         "marker": {
          "color": "#636efa",
          "symbol": "line-ns-open"
         },
         "name": "ztf",
         "offsetgroup": "ztf",
         "showlegend": false,
         "type": "box",
         "x": [
          0.021,
          0.05,
          0.0365,
          0.04,
          0.036,
          0.076,
          0.016,
          0.008246,
          0.007,
          0.01787,
          0.017,
          0.06,
          0.01335,
          0.04,
          0.037,
          0.03496,
          0.00761,
          null,
          null,
          null,
          null,
          null,
          null,
          null,
          null,
          null,
          null,
          0.063152,
          0.05,
          0.073,
          0.04,
          0.06017,
          0.06,
          0.08,
          0.08,
          0.02,
          0.07,
          0.01,
          0.0672,
          0.055,
          0.051,
          0.04,
          0.02,
          0.04,
          0.06,
          0.059,
          0.05,
          0.095,
          0.03,
          0.01525,
          0.03943,
          0.041408,
          0.008029,
          0.026218,
          0.031,
          0.035428,
          0.017072,
          0.057,
          0.06,
          0.079,
          0.09,
          0.063,
          0.06,
          0.062,
          0.077,
          0.041,
          0.025,
          0.0388224,
          0.03889,
          0.03,
          0.067,
          0.063,
          0.082,
          0.0518,
          0.055008,
          0.07,
          0.06,
          0.054,
          0.06,
          0.01512,
          0.045795,
          0.05456,
          0.069,
          0.05,
          0.045,
          0.002388,
          0.078,
          0.0454,
          0.0410648,
          0.06,
          0.05,
          0.06569,
          0.0244,
          0.06,
          0.01552,
          0.05,
          0.05,
          0.09,
          0.087927,
          0.016348,
          0.016385,
          0.0512,
          0.068197,
          0.027,
          0.03231,
          0.03,
          0.016,
          0.05,
          0.07,
          0.07,
          0.07,
          0.046118,
          0.05,
          0.076427,
          0.04918,
          0.07,
          0.025,
          0.076,
          0.07,
          0.045,
          0.067496,
          0.03,
          0.080178,
          0.08,
          0.089,
          0.09562,
          0.055,
          0.023,
          0.0182,
          0.026872,
          0.021515,
          0.08,
          0.06,
          0.069,
          0.0646,
          0.045,
          0.06,
          0.034014,
          0.042,
          0.039,
          0.078297,
          0.04,
          0.07484,
          0.053072,
          0.042,
          0.049312,
          0.036,
          0.054,
          0.02,
          0.041585,
          0.054224,
          0.097049,
          0.049405,
          0.036705,
          0.033416,
          0.056,
          0.06,
          0.046105,
          0.012,
          0.025,
          0.068,
          0.065078,
          0.016355,
          0.06,
          0.057,
          0.031,
          0.04,
          0.056,
          0.035,
          0.08,
          0.07023,
          0.055612,
          0.04887,
          0.0094,
          0.06885,
          0.0358,
          0.04,
          0.081438,
          0.046,
          0.054,
          0.019685,
          0.056,
          0.03206,
          0.029,
          0.043,
          0.07,
          0.003319,
          0.035,
          0.009346,
          0.03,
          0.016,
          0.036912,
          0.056,
          0.069,
          0.020538,
          0.08,
          0.031362,
          0.033898,
          0.053,
          0.021958,
          0.04,
          0.021,
          0.0559,
          0.040978,
          0.073,
          0.0381178,
          0.0414613,
          0.069675,
          0.03,
          0.076,
          0.036,
          0.064524,
          0.079,
          0.039074,
          0.065,
          0.08067,
          0.03676,
          0.03921,
          0.038,
          0.003506,
          0.044,
          0.061,
          0.021612,
          0.073,
          0.012,
          0.05,
          0.074,
          0.036673,
          0.0543,
          0.035,
          0.070063,
          0.04,
          0.097,
          0.046,
          0.08,
          0.05728,
          0.04929,
          0.02566,
          0.07295,
          0.052,
          0.083,
          0.072,
          0.0576,
          0.068,
          0.058086,
          0.05,
          0.074,
          0.059,
          0.046247,
          0.063,
          0.1,
          0.09,
          0.07521,
          0.06,
          0.06,
          0.0485,
          0.096,
          0.031,
          0.09,
          0.076,
          0.068,
          0.044,
          0.064,
          0.088,
          0.0378,
          0.05,
          0.033,
          0.066,
          0.041,
          0.026657,
          0.085,
          0.072,
          0.103,
          0.039,
          0.0426,
          0.022609,
          0.108,
          0.04,
          0.064,
          0.057216,
          0.04,
          0.079,
          0.067693,
          0.0645,
          0.083,
          0.041,
          0.037569,
          0.055,
          0.052334,
          0.064,
          0.044678,
          0.067,
          0.080257,
          0.059374,
          0.049204,
          0.051,
          0.051,
          0.09,
          0.05558,
          0.068,
          0.07
         ],
         "xaxis": "x2",
         "yaxis": "y2"
        },
        {
         "alignmentgroup": "True",
         "bingroup": "x",
         "hovertemplate": "survey=none/other<br>redshift=%{x}<br>count=%{y}<extra></extra>",
         "legendgroup": "none/other",
         "marker": {
          "color": "#EF553B",
          "pattern": {
           "shape": ""
          }
         },
         "name": "none/other",
         "nbinsx": 15,
         "offsetgroup": "none/other",
         "orientation": "v",
         "showlegend": true,
         "type": "histogram",
         "x": [
          0.05,
          0.04,
          0.083,
          0.08,
          0.07,
          0.0237,
          0.039,
          0.023653,
          0.03,
          0.008733,
          0.025007,
          0.0018,
          0.085
         ],
         "xaxis": "x",
         "yaxis": "y"
        },
        {
         "alignmentgroup": "True",
         "boxpoints": "all",
         "customdata": [
          [
           "2020adle"
          ],
          [
           "2020aakx"
          ],
          [
           "2021fg"
          ],
          [
           "2021zw"
          ],
          [
           "2021bnd"
          ],
          [
           "2021bsf"
          ],
          [
           "2021our"
          ],
          [
           "2021omp"
          ],
          [
           "2021pby"
          ],
          [
           "2021pfs"
          ],
          [
           "2009D"
          ],
          [
           "2021qvv"
          ],
          [
           "2021slh"
          ]
         ],
         "fillcolor": "rgba(255,255,255,0)",
         "hoveron": "points",
         "hovertemplate": "survey=none/other<br>redshift=%{x}<br>target_name=%{customdata[0]}<extra></extra>",
         "jitter": 0,
         "legendgroup": "none/other",
         "line": {
          "color": "rgba(255,255,255,0)"
         },
         "marker": {
          "color": "#EF553B",
          "symbol": "line-ns-open"
         },
         "name": "none/other",
         "offsetgroup": "none/other",
         "showlegend": false,
         "type": "box",
         "x": [
          0.05,
          0.04,
          0.083,
          0.08,
          0.07,
          0.0237,
          0.039,
          0.023653,
          0.03,
          0.008733,
          0.025007,
          0.0018,
          0.085
         ],
         "xaxis": "x2",
         "yaxis": "y2"
        }
       ],
       "layout": {
        "barmode": "relative",
        "legend": {
         "title": {
          "text": "survey"
         },
         "tracegroupgap": 0
        },
        "mapbox": {
         "style": "white-bg"
        },
        "margin": {
         "t": 60
        },
        "template": {
         "data": {
          "bar": [
           {
            "error_x": {
             "color": "#2a3f5f"
            },
            "error_y": {
             "color": "#2a3f5f"
            },
            "marker": {
             "line": {
              "color": "#E5ECF6",
              "width": 0.5
             },
             "pattern": {
              "fillmode": "overlay",
              "size": 10,
              "solidity": 0.2
             }
            },
            "type": "bar"
           }
          ],
          "barpolar": [
           {
            "marker": {
             "line": {
              "color": "#E5ECF6",
              "width": 0.5
             },
             "pattern": {
              "fillmode": "overlay",
              "size": 10,
              "solidity": 0.2
             }
            },
            "type": "barpolar"
           }
          ],
          "carpet": [
           {
            "aaxis": {
             "endlinecolor": "#2a3f5f",
             "gridcolor": "white",
             "linecolor": "white",
             "minorgridcolor": "white",
             "startlinecolor": "#2a3f5f"
            },
            "baxis": {
             "endlinecolor": "#2a3f5f",
             "gridcolor": "white",
             "linecolor": "white",
             "minorgridcolor": "white",
             "startlinecolor": "#2a3f5f"
            },
            "type": "carpet"
           }
          ],
          "choropleth": [
           {
            "colorbar": {
             "outlinewidth": 0,
             "ticks": ""
            },
            "type": "choropleth"
           }
          ],
          "contour": [
           {
            "colorbar": {
             "outlinewidth": 0,
             "ticks": ""
            },
            "colorscale": [
             [
              0,
              "#0d0887"
             ],
             [
              0.1111111111111111,
              "#46039f"
             ],
             [
              0.2222222222222222,
              "#7201a8"
             ],
             [
              0.3333333333333333,
              "#9c179e"
             ],
             [
              0.4444444444444444,
              "#bd3786"
             ],
             [
              0.5555555555555556,
              "#d8576b"
             ],
             [
              0.6666666666666666,
              "#ed7953"
             ],
             [
              0.7777777777777778,
              "#fb9f3a"
             ],
             [
              0.8888888888888888,
              "#fdca26"
             ],
             [
              1,
              "#f0f921"
             ]
            ],
            "type": "contour"
           }
          ],
          "contourcarpet": [
           {
            "colorbar": {
             "outlinewidth": 0,
             "ticks": ""
            },
            "type": "contourcarpet"
           }
          ],
          "heatmap": [
           {
            "colorbar": {
             "outlinewidth": 0,
             "ticks": ""
            },
            "colorscale": [
             [
              0,
              "#0d0887"
             ],
             [
              0.1111111111111111,
              "#46039f"
             ],
             [
              0.2222222222222222,
              "#7201a8"
             ],
             [
              0.3333333333333333,
              "#9c179e"
             ],
             [
              0.4444444444444444,
              "#bd3786"
             ],
             [
              0.5555555555555556,
              "#d8576b"
             ],
             [
              0.6666666666666666,
              "#ed7953"
             ],
             [
              0.7777777777777778,
              "#fb9f3a"
             ],
             [
              0.8888888888888888,
              "#fdca26"
             ],
             [
              1,
              "#f0f921"
             ]
            ],
            "type": "heatmap"
           }
          ],
          "heatmapgl": [
           {
            "colorbar": {
             "outlinewidth": 0,
             "ticks": ""
            },
            "colorscale": [
             [
              0,
              "#0d0887"
             ],
             [
              0.1111111111111111,
              "#46039f"
             ],
             [
              0.2222222222222222,
              "#7201a8"
             ],
             [
              0.3333333333333333,
              "#9c179e"
             ],
             [
              0.4444444444444444,
              "#bd3786"
             ],
             [
              0.5555555555555556,
              "#d8576b"
             ],
             [
              0.6666666666666666,
              "#ed7953"
             ],
             [
              0.7777777777777778,
              "#fb9f3a"
             ],
             [
              0.8888888888888888,
              "#fdca26"
             ],
             [
              1,
              "#f0f921"
             ]
            ],
            "type": "heatmapgl"
           }
          ],
          "histogram": [
           {
            "marker": {
             "pattern": {
              "fillmode": "overlay",
              "size": 10,
              "solidity": 0.2
             }
            },
            "type": "histogram"
           }
          ],
          "histogram2d": [
           {
            "colorbar": {
             "outlinewidth": 0,
             "ticks": ""
            },
            "colorscale": [
             [
              0,
              "#0d0887"
             ],
             [
              0.1111111111111111,
              "#46039f"
             ],
             [
              0.2222222222222222,
              "#7201a8"
             ],
             [
              0.3333333333333333,
              "#9c179e"
             ],
             [
              0.4444444444444444,
              "#bd3786"
             ],
             [
              0.5555555555555556,
              "#d8576b"
             ],
             [
              0.6666666666666666,
              "#ed7953"
             ],
             [
              0.7777777777777778,
              "#fb9f3a"
             ],
             [
              0.8888888888888888,
              "#fdca26"
             ],
             [
              1,
              "#f0f921"
             ]
            ],
            "type": "histogram2d"
           }
          ],
          "histogram2dcontour": [
           {
            "colorbar": {
             "outlinewidth": 0,
             "ticks": ""
            },
            "colorscale": [
             [
              0,
              "#0d0887"
             ],
             [
              0.1111111111111111,
              "#46039f"
             ],
             [
              0.2222222222222222,
              "#7201a8"
             ],
             [
              0.3333333333333333,
              "#9c179e"
             ],
             [
              0.4444444444444444,
              "#bd3786"
             ],
             [
              0.5555555555555556,
              "#d8576b"
             ],
             [
              0.6666666666666666,
              "#ed7953"
             ],
             [
              0.7777777777777778,
              "#fb9f3a"
             ],
             [
              0.8888888888888888,
              "#fdca26"
             ],
             [
              1,
              "#f0f921"
             ]
            ],
            "type": "histogram2dcontour"
           }
          ],
          "mesh3d": [
           {
            "colorbar": {
             "outlinewidth": 0,
             "ticks": ""
            },
            "type": "mesh3d"
           }
          ],
          "parcoords": [
           {
            "line": {
             "colorbar": {
              "outlinewidth": 0,
              "ticks": ""
             }
            },
            "type": "parcoords"
           }
          ],
          "pie": [
           {
            "automargin": true,
            "type": "pie"
           }
          ],
          "scatter": [
           {
            "marker": {
             "colorbar": {
              "outlinewidth": 0,
              "ticks": ""
             }
            },
            "type": "scatter"
           }
          ],
          "scatter3d": [
           {
            "line": {
             "colorbar": {
              "outlinewidth": 0,
              "ticks": ""
             }
            },
            "marker": {
             "colorbar": {
              "outlinewidth": 0,
              "ticks": ""
             }
            },
            "type": "scatter3d"
           }
          ],
          "scattercarpet": [
           {
            "marker": {
             "colorbar": {
              "outlinewidth": 0,
              "ticks": ""
             }
            },
            "type": "scattercarpet"
           }
          ],
          "scattergeo": [
           {
            "marker": {
             "colorbar": {
              "outlinewidth": 0,
              "ticks": ""
             }
            },
            "type": "scattergeo"
           }
          ],
          "scattergl": [
           {
            "marker": {
             "colorbar": {
              "outlinewidth": 0,
              "ticks": ""
             }
            },
            "type": "scattergl"
           }
          ],
          "scattermapbox": [
           {
            "marker": {
             "colorbar": {
              "outlinewidth": 0,
              "ticks": ""
             }
            },
            "type": "scattermapbox"
           }
          ],
          "scatterpolar": [
           {
            "marker": {
             "colorbar": {
              "outlinewidth": 0,
              "ticks": ""
             }
            },
            "type": "scatterpolar"
           }
          ],
          "scatterpolargl": [
           {
            "marker": {
             "colorbar": {
              "outlinewidth": 0,
              "ticks": ""
             }
            },
            "type": "scatterpolargl"
           }
          ],
          "scatterternary": [
           {
            "marker": {
             "colorbar": {
              "outlinewidth": 0,
              "ticks": ""
             }
            },
            "type": "scatterternary"
           }
          ],
          "surface": [
           {
            "colorbar": {
             "outlinewidth": 0,
             "ticks": ""
            },
            "colorscale": [
             [
              0,
              "#0d0887"
             ],
             [
              0.1111111111111111,
              "#46039f"
             ],
             [
              0.2222222222222222,
              "#7201a8"
             ],
             [
              0.3333333333333333,
              "#9c179e"
             ],
             [
              0.4444444444444444,
              "#bd3786"
             ],
             [
              0.5555555555555556,
              "#d8576b"
             ],
             [
              0.6666666666666666,
              "#ed7953"
             ],
             [
              0.7777777777777778,
              "#fb9f3a"
             ],
             [
              0.8888888888888888,
              "#fdca26"
             ],
             [
              1,
              "#f0f921"
             ]
            ],
            "type": "surface"
           }
          ],
          "table": [
           {
            "cells": {
             "fill": {
              "color": "#EBF0F8"
             },
             "line": {
              "color": "white"
             }
            },
            "header": {
             "fill": {
              "color": "#C8D4E3"
             },
             "line": {
              "color": "white"
             }
            },
            "type": "table"
           }
          ]
         },
         "layout": {
          "annotationdefaults": {
           "arrowcolor": "#2a3f5f",
           "arrowhead": 0,
           "arrowwidth": 1
          },
          "autotypenumbers": "strict",
          "coloraxis": {
           "colorbar": {
            "outlinewidth": 0,
            "ticks": ""
           }
          },
          "colorscale": {
           "diverging": [
            [
             0,
             "#8e0152"
            ],
            [
             0.1,
             "#c51b7d"
            ],
            [
             0.2,
             "#de77ae"
            ],
            [
             0.3,
             "#f1b6da"
            ],
            [
             0.4,
             "#fde0ef"
            ],
            [
             0.5,
             "#f7f7f7"
            ],
            [
             0.6,
             "#e6f5d0"
            ],
            [
             0.7,
             "#b8e186"
            ],
            [
             0.8,
             "#7fbc41"
            ],
            [
             0.9,
             "#4d9221"
            ],
            [
             1,
             "#276419"
            ]
           ],
           "sequential": [
            [
             0,
             "#0d0887"
            ],
            [
             0.1111111111111111,
             "#46039f"
            ],
            [
             0.2222222222222222,
             "#7201a8"
            ],
            [
             0.3333333333333333,
             "#9c179e"
            ],
            [
             0.4444444444444444,
             "#bd3786"
            ],
            [
             0.5555555555555556,
             "#d8576b"
            ],
            [
             0.6666666666666666,
             "#ed7953"
            ],
            [
             0.7777777777777778,
             "#fb9f3a"
            ],
            [
             0.8888888888888888,
             "#fdca26"
            ],
            [
             1,
             "#f0f921"
            ]
           ],
           "sequentialminus": [
            [
             0,
             "#0d0887"
            ],
            [
             0.1111111111111111,
             "#46039f"
            ],
            [
             0.2222222222222222,
             "#7201a8"
            ],
            [
             0.3333333333333333,
             "#9c179e"
            ],
            [
             0.4444444444444444,
             "#bd3786"
            ],
            [
             0.5555555555555556,
             "#d8576b"
            ],
            [
             0.6666666666666666,
             "#ed7953"
            ],
            [
             0.7777777777777778,
             "#fb9f3a"
            ],
            [
             0.8888888888888888,
             "#fdca26"
            ],
            [
             1,
             "#f0f921"
            ]
           ]
          },
          "colorway": [
           "#636efa",
           "#EF553B",
           "#00cc96",
           "#ab63fa",
           "#FFA15A",
           "#19d3f3",
           "#FF6692",
           "#B6E880",
           "#FF97FF",
           "#FECB52"
          ],
          "font": {
           "color": "#2a3f5f"
          },
          "geo": {
           "bgcolor": "white",
           "lakecolor": "white",
           "landcolor": "#E5ECF6",
           "showlakes": true,
           "showland": true,
           "subunitcolor": "white"
          },
          "hoverlabel": {
           "align": "left"
          },
          "hovermode": "closest",
          "mapbox": {
           "style": "light"
          },
          "paper_bgcolor": "white",
          "plot_bgcolor": "#E5ECF6",
          "polar": {
           "angularaxis": {
            "gridcolor": "white",
            "linecolor": "white",
            "ticks": ""
           },
           "bgcolor": "#E5ECF6",
           "radialaxis": {
            "gridcolor": "white",
            "linecolor": "white",
            "ticks": ""
           }
          },
          "scene": {
           "xaxis": {
            "backgroundcolor": "#E5ECF6",
            "gridcolor": "white",
            "gridwidth": 2,
            "linecolor": "white",
            "showbackground": true,
            "ticks": "",
            "zerolinecolor": "white"
           },
           "yaxis": {
            "backgroundcolor": "#E5ECF6",
            "gridcolor": "white",
            "gridwidth": 2,
            "linecolor": "white",
            "showbackground": true,
            "ticks": "",
            "zerolinecolor": "white"
           },
           "zaxis": {
            "backgroundcolor": "#E5ECF6",
            "gridcolor": "white",
            "gridwidth": 2,
            "linecolor": "white",
            "showbackground": true,
            "ticks": "",
            "zerolinecolor": "white"
           }
          },
          "shapedefaults": {
           "line": {
            "color": "#2a3f5f"
           }
          },
          "ternary": {
           "aaxis": {
            "gridcolor": "white",
            "linecolor": "white",
            "ticks": ""
           },
           "baxis": {
            "gridcolor": "white",
            "linecolor": "white",
            "ticks": ""
           },
           "bgcolor": "#E5ECF6",
           "caxis": {
            "gridcolor": "white",
            "linecolor": "white",
            "ticks": ""
           }
          },
          "title": {
           "x": 0.05
          },
          "xaxis": {
           "automargin": true,
           "gridcolor": "white",
           "linecolor": "white",
           "ticks": "",
           "title": {
            "standoff": 15
           },
           "zerolinecolor": "white",
           "zerolinewidth": 2
          },
          "yaxis": {
           "automargin": true,
           "gridcolor": "white",
           "linecolor": "white",
           "ticks": "",
           "title": {
            "standoff": 15
           },
           "zerolinecolor": "white",
           "zerolinewidth": 2
          }
         }
        },
        "xaxis": {
         "anchor": "y",
         "domain": [
          0,
          1
         ],
         "title": {
          "text": "redshift"
         }
        },
        "xaxis2": {
         "anchor": "y2",
         "domain": [
          0,
          1
         ],
         "matches": "x",
         "showgrid": true,
         "showticklabels": false
        },
        "yaxis": {
         "anchor": "x",
         "domain": [
          0,
          0.7326
         ],
         "title": {
          "text": "count"
         }
        },
        "yaxis2": {
         "anchor": "x2",
         "domain": [
          0.7426,
          1
         ],
         "matches": "y2",
         "showgrid": false,
         "showline": false,
         "showticklabels": false,
         "ticks": ""
        }
       }
      },
      "text/html": [
       "<div>                            <div id=\"62ea0eb9-3860-4d32-b585-c92a5d564dc1\" class=\"plotly-graph-div\" style=\"height:525px; width:100%;\"></div>            <script type=\"text/javascript\">                require([\"plotly\"], function(Plotly) {                    window.PLOTLYENV=window.PLOTLYENV || {};                                    if (document.getElementById(\"62ea0eb9-3860-4d32-b585-c92a5d564dc1\")) {                    Plotly.newPlot(                        \"62ea0eb9-3860-4d32-b585-c92a5d564dc1\",                        [{\"alignmentgroup\":\"True\",\"bingroup\":\"x\",\"hovertemplate\":\"survey=ztf<br>redshift=%{x}<br>count=%{y}<extra></extra>\",\"legendgroup\":\"ztf\",\"marker\":{\"color\":\"#636efa\",\"pattern\":{\"shape\":\"\"}},\"name\":\"ztf\",\"nbinsx\":15,\"offsetgroup\":\"ztf\",\"orientation\":\"v\",\"showlegend\":true,\"type\":\"histogram\",\"x\":[0.021,0.05,0.0365,0.04,0.036,0.076,0.016,0.008246,0.007,0.01787,0.017,0.06,0.01335,0.04,0.037,0.03496,0.00761,null,null,null,null,null,null,null,null,null,null,0.063152,0.05,0.073,0.04,0.06017,0.06,0.08,0.08,0.02,0.07,0.01,0.0672,0.055,0.051,0.04,0.02,0.04,0.06,0.059,0.05,0.095,0.03,0.01525,0.03943,0.041408,0.008029,0.026218,0.031,0.035428,0.017072,0.057,0.06,0.079,0.09,0.063,0.06,0.062,0.077,0.041,0.025,0.0388224,0.03889,0.03,0.067,0.063,0.082,0.0518,0.055008,0.07,0.06,0.054,0.06,0.01512,0.045795,0.05456,0.069,0.05,0.045,0.002388,0.078,0.0454,0.0410648,0.06,0.05,0.06569,0.0244,0.06,0.01552,0.05,0.05,0.09,0.087927,0.016348,0.016385,0.0512,0.068197,0.027,0.03231,0.03,0.016,0.05,0.07,0.07,0.07,0.046118,0.05,0.076427,0.04918,0.07,0.025,0.076,0.07,0.045,0.067496,0.03,0.080178,0.08,0.089,0.09562,0.055,0.023,0.0182,0.026872,0.021515,0.08,0.06,0.069,0.0646,0.045,0.06,0.034014,0.042,0.039,0.078297,0.04,0.07484,0.053072,0.042,0.049312,0.036,0.054,0.02,0.041585,0.054224,0.097049,0.049405,0.036705,0.033416,0.056,0.06,0.046105,0.012,0.025,0.068,0.065078,0.016355,0.06,0.057,0.031,0.04,0.056,0.035,0.08,0.07023,0.055612,0.04887,0.0094,0.06885,0.0358,0.04,0.081438,0.046,0.054,0.019685,0.056,0.03206,0.029,0.043,0.07,0.003319,0.035,0.009346,0.03,0.016,0.036912,0.056,0.069,0.020538,0.08,0.031362,0.033898,0.053,0.021958,0.04,0.021,0.0559,0.040978,0.073,0.0381178,0.0414613,0.069675,0.03,0.076,0.036,0.064524,0.079,0.039074,0.065,0.08067,0.03676,0.03921,0.038,0.003506,0.044,0.061,0.021612,0.073,0.012,0.05,0.074,0.036673,0.0543,0.035,0.070063,0.04,0.097,0.046,0.08,0.05728,0.04929,0.02566,0.07295,0.052,0.083,0.072,0.0576,0.068,0.058086,0.05,0.074,0.059,0.046247,0.063,0.1,0.09,0.07521,0.06,0.06,0.0485,0.096,0.031,0.09,0.076,0.068,0.044,0.064,0.088,0.0378,0.05,0.033,0.066,0.041,0.026657,0.085,0.072,0.103,0.039,0.0426,0.022609,0.108,0.04,0.064,0.057216,0.04,0.079,0.067693,0.0645,0.083,0.041,0.037569,0.055,0.052334,0.064,0.044678,0.067,0.080257,0.059374,0.049204,0.051,0.051,0.09,0.05558,0.068,0.07],\"xaxis\":\"x\",\"yaxis\":\"y\"},{\"alignmentgroup\":\"True\",\"boxpoints\":\"all\",\"customdata\":[[\"2020oij\"],[\"2020tug\"],[\"2020uly\"],[\"2020xba\"],[\"2020uvd\"],[\"2020uma\"],[\"2020uec\"],[\"2020uxz\"],[\"2020wtq\"],[\"2020vey\"],[\"2020vaw\"],[\"2020vdm\"],[\"2020ssf\"],[\"2020wob\"],[\"2020xqb\"],[\"2020wgr\"],[\"2020xtz\"],[\"2020szr\"],[\"2020tcp\"],[\"2020thn\"],[\"2020tnw\"],[\"2020tdp\"],[\"2020stk\"],[\"2020svi\"],[\"2020tfd\"],[\"2020svo\"],[\"2020tfg\"],[\"2020ytj\"],[\"2020yxd\"],[\"2020yyg\"],[\"2020zhh\"],[\"2020yss\"],[\"2020yhd\"],[\"2020yyk\"],[\"2020ymv\"],[\"2020zmi\"],[\"2020yji\"],[\"2020yvu\"],[\"2020yzs\"],[\"2020yjf\"],[\"2020zko\"],[\"2020zjn\"],[\"2020zkt\"],[\"2020zpi\"],[\"2020zpe\"],[\"2020zyy\"],[\"2020aafx\"],[\"2020zka\"],[\"2020aabz\"],[\"2020aatc\"],[\"2020aauk\"],[\"2020zgu\"],[\"2020abgq\"],[\"2020abdv\"],[\"2020abfa\"],[\"2020aboj\"],[\"2020acch\"],[\"2020abqy\"],[\"2020aajo\"],[\"2020abjl\"],[\"2020acae\"],[\"2020aajf\"],[\"2020acsn\"],[\"2020abkq\"],[\"2020acaf\"],[\"2020abom\"],[\"2020aczg\"],[\"2020acpb\"],[\"2020abcl\"],[\"2020aawr\"],[\"2020aced\"],[\"2020ackf\"],[\"2020acei\"],[\"2020acdo\"],[\"2020aden\"],[\"2020adcp\"],[\"2020acmm\"],[\"2020abox\"],[\"2020acts\"],[\"2020adcb\"],[\"2020actp\"],[\"2020adld\"],[\"2020acrz\"],[\"2020adhi\"],[\"2020adfe\"],[\"2021J\"],[\"2021aq\"],[\"2021T\"],[\"2020adjx\"],[\"2021gl\"],[\"2020aerb\"],[\"2021F\"],[\"2020aeps\"],[\"2021mw\"],[\"2021dn\"],[\"2020adqu\"],[\"2021cp\"],[\"2021pp\"],[\"2021cn\"],[\"2021pc\"],[\"2021K\"],[\"2021G\"],[\"2020adqq\"],[\"2020adeu\"],[\"2021ix\"],[\"2021wh\"],[\"2021xn\"],[\"2021ls\"],[\"2021abi\"],[\"2021zs\"],[\"2021qy\"],[\"2021yr\"],[\"2021vk\"],[\"2021gd\"],[\"2021aqq\"],[\"2021jb\"],[\"2021aip\"],[\"2021zu\"],[\"2021dj\"],[\"2021aid\"],[\"2021ajy\"],[\"2021zo\"],[\"2021rx\"],[\"2021tk\"],[\"2021lr\"],[\"2021qj\"],[\"2021bmy\"],[\"2021bbz\"],[\"2021bkw\"],[\"2021blp\"],[\"2021biz\"],[\"2021bmr\"],[\"2021bpn\"],[\"2021cbp\"],[\"2021bsx\"],[\"2021ble\"],[\"2021btd\"],[\"2021ckg\"],[\"2021btm\"],[\"2021clz\"],[\"2021cdi\"],[\"2021cym\"],[\"2021cjc\"],[\"2021ckc\"],[\"2021dcu\"],[\"2021del\"],[\"2021ddh\"],[\"2021dam\"],[\"2021dch\"],[\"2021dit\"],[\"2021dev\"],[\"2021ddu\"],[\"2021ctk\"],[\"2021dae\"],[\"2021dlb\"],[\"2021dnl\"],[\"2021cyn\"],[\"2021dnm\"],[\"2021dov\"],[\"2021dsb\"],[\"2021ecu\"],[\"2021ecv\"],[\"2021dpu\"],[\"2021egg\"],[\"2021fbc\"],[\"2021epv\"],[\"2021feu\"],[\"2021fco\"],[\"2021fqb\"],[\"2021fbd\"],[\"2021eir\"],[\"2021fnx\"],[\"2021fwz\"],[\"2021fxy\"],[\"2021fqk\"],[\"2021fnt\"],[\"2021fof\"],[\"2021gcw\"],[\"2021ghc\"],[\"2021epq\"],[\"2021gtp\"],[\"2021fck\"],[\"2021gez\"],[\"2021glv\"],[\"2021gkk\"],[\"2021fwy\"],[\"2021hiz\"],[\"2021hem\"],[\"2021hpr\"],[\"2021jap\"],[\"2021ixi\"],[\"2021ipb\"],[\"2021kjj\"],[\"2021kpu\"],[\"2021koq\"],[\"2021lhs\"],[\"2021kut\"],[\"2021lat\"],[\"2021lhz\"],[\"2021low\"],[\"2021lug\"],[\"2021jvs\"],[\"2021lsv\"],[\"2021lvk\"],[\"2021lrp\"],[\"2021mim\"],[\"2021mid\"],[\"2021lvg\"],[\"2021mnd\"],[\"2021mvl\"],[\"2021ogs\"],[\"2021nyt\"],[\"2021oan\"],[\"2021oez\"],[\"2021ooe\"],[\"2021ojn\"],[\"2021pqk\"],[\"2021rcp\"],[\"2021qxu\"],[\"2021rhu\"],[\"2021rta\"],[\"2021res\"],[\"2021ryz\"],[\"2021rce\"],[\"2021soe\"],[\"2021sfh\"],[\"2021sry\"],[\"2021sqe\"],[\"2021sve\"],[\"2021thm\"],[\"2021tey\"],[\"2021tol\"],[\"2021sis\"],[\"2021tnt\"],[\"2021stz\"],[\"2021sub\"],[\"2021tif\"],[\"2021tmf\"],[\"2021tfx\"],[\"2021tjc\"],[\"2021tnd\"],[\"2021tth\"],[\"2021uib\"],[\"2021ttg\"],[\"2021tix\"],[\"2021tgb\"],[\"2021udt\"],[\"2021ucq\"],[\"2021uhx\"],[\"2021udw\"],[\"2021tpf\"],[\"2021tis\"],[\"2021uhl\"],[\"2021ujo\"],[\"2021umd\"],[\"2021ums\"],[\"2021ttc\"],[\"2021uvb\"],[\"2021uga\"],[\"2021umz\"],[\"2021uvj\"],[\"2021uyi\"],[\"2021uns\"],[\"2021uhe\"],[\"2021vil\"],[\"2021vla\"],[\"2021vjx\"],[\"2021vjz\"],[\"2021vnx\"],[\"2021vju\"],[\"2021vrb\"],[\"2021vts\"],[\"2021vgz\"],[\"2021udv\"],[\"2021wyw\"],[\"2021wwg\"],[\"2021vcz\"],[\"2021wyd\"],[\"2021xab\"],[\"2021wzt\"],[\"2021xel\"],[\"2021xes\"],[\"2021xan\"],[\"2021wyz\"],[\"2021xlj\"],[\"2021xsm\"],[\"2021xmz\"],[\"2021xeo\"],[\"2021xkm\"],[\"2021xvg\"],[\"2021xzl\"],[\"2021xli\"],[\"2021xxk\"],[\"2021ymm\"],[\"2021ylh\"],[\"2021yhi\"],[\"2021ymn\"],[\"2021ybw\"],[\"2021xzk\"],[\"2021yrz\"],[\"2021yno\"]],\"fillcolor\":\"rgba(255,255,255,0)\",\"hoveron\":\"points\",\"hovertemplate\":\"survey=ztf<br>redshift=%{x}<br>target_name=%{customdata[0]}<extra></extra>\",\"jitter\":0,\"legendgroup\":\"ztf\",\"line\":{\"color\":\"rgba(255,255,255,0)\"},\"marker\":{\"color\":\"#636efa\",\"symbol\":\"line-ns-open\"},\"name\":\"ztf\",\"offsetgroup\":\"ztf\",\"showlegend\":false,\"type\":\"box\",\"x\":[0.021,0.05,0.0365,0.04,0.036,0.076,0.016,0.008246,0.007,0.01787,0.017,0.06,0.01335,0.04,0.037,0.03496,0.00761,null,null,null,null,null,null,null,null,null,null,0.063152,0.05,0.073,0.04,0.06017,0.06,0.08,0.08,0.02,0.07,0.01,0.0672,0.055,0.051,0.04,0.02,0.04,0.06,0.059,0.05,0.095,0.03,0.01525,0.03943,0.041408,0.008029,0.026218,0.031,0.035428,0.017072,0.057,0.06,0.079,0.09,0.063,0.06,0.062,0.077,0.041,0.025,0.0388224,0.03889,0.03,0.067,0.063,0.082,0.0518,0.055008,0.07,0.06,0.054,0.06,0.01512,0.045795,0.05456,0.069,0.05,0.045,0.002388,0.078,0.0454,0.0410648,0.06,0.05,0.06569,0.0244,0.06,0.01552,0.05,0.05,0.09,0.087927,0.016348,0.016385,0.0512,0.068197,0.027,0.03231,0.03,0.016,0.05,0.07,0.07,0.07,0.046118,0.05,0.076427,0.04918,0.07,0.025,0.076,0.07,0.045,0.067496,0.03,0.080178,0.08,0.089,0.09562,0.055,0.023,0.0182,0.026872,0.021515,0.08,0.06,0.069,0.0646,0.045,0.06,0.034014,0.042,0.039,0.078297,0.04,0.07484,0.053072,0.042,0.049312,0.036,0.054,0.02,0.041585,0.054224,0.097049,0.049405,0.036705,0.033416,0.056,0.06,0.046105,0.012,0.025,0.068,0.065078,0.016355,0.06,0.057,0.031,0.04,0.056,0.035,0.08,0.07023,0.055612,0.04887,0.0094,0.06885,0.0358,0.04,0.081438,0.046,0.054,0.019685,0.056,0.03206,0.029,0.043,0.07,0.003319,0.035,0.009346,0.03,0.016,0.036912,0.056,0.069,0.020538,0.08,0.031362,0.033898,0.053,0.021958,0.04,0.021,0.0559,0.040978,0.073,0.0381178,0.0414613,0.069675,0.03,0.076,0.036,0.064524,0.079,0.039074,0.065,0.08067,0.03676,0.03921,0.038,0.003506,0.044,0.061,0.021612,0.073,0.012,0.05,0.074,0.036673,0.0543,0.035,0.070063,0.04,0.097,0.046,0.08,0.05728,0.04929,0.02566,0.07295,0.052,0.083,0.072,0.0576,0.068,0.058086,0.05,0.074,0.059,0.046247,0.063,0.1,0.09,0.07521,0.06,0.06,0.0485,0.096,0.031,0.09,0.076,0.068,0.044,0.064,0.088,0.0378,0.05,0.033,0.066,0.041,0.026657,0.085,0.072,0.103,0.039,0.0426,0.022609,0.108,0.04,0.064,0.057216,0.04,0.079,0.067693,0.0645,0.083,0.041,0.037569,0.055,0.052334,0.064,0.044678,0.067,0.080257,0.059374,0.049204,0.051,0.051,0.09,0.05558,0.068,0.07],\"xaxis\":\"x2\",\"yaxis\":\"y2\"},{\"alignmentgroup\":\"True\",\"bingroup\":\"x\",\"hovertemplate\":\"survey=none/other<br>redshift=%{x}<br>count=%{y}<extra></extra>\",\"legendgroup\":\"none/other\",\"marker\":{\"color\":\"#EF553B\",\"pattern\":{\"shape\":\"\"}},\"name\":\"none/other\",\"nbinsx\":15,\"offsetgroup\":\"none/other\",\"orientation\":\"v\",\"showlegend\":true,\"type\":\"histogram\",\"x\":[0.05,0.04,0.083,0.08,0.07,0.0237,0.039,0.023653,0.03,0.008733,0.025007,0.0018,0.085],\"xaxis\":\"x\",\"yaxis\":\"y\"},{\"alignmentgroup\":\"True\",\"boxpoints\":\"all\",\"customdata\":[[\"2020adle\"],[\"2020aakx\"],[\"2021fg\"],[\"2021zw\"],[\"2021bnd\"],[\"2021bsf\"],[\"2021our\"],[\"2021omp\"],[\"2021pby\"],[\"2021pfs\"],[\"2009D\"],[\"2021qvv\"],[\"2021slh\"]],\"fillcolor\":\"rgba(255,255,255,0)\",\"hoveron\":\"points\",\"hovertemplate\":\"survey=none/other<br>redshift=%{x}<br>target_name=%{customdata[0]}<extra></extra>\",\"jitter\":0,\"legendgroup\":\"none/other\",\"line\":{\"color\":\"rgba(255,255,255,0)\"},\"marker\":{\"color\":\"#EF553B\",\"symbol\":\"line-ns-open\"},\"name\":\"none/other\",\"offsetgroup\":\"none/other\",\"showlegend\":false,\"type\":\"box\",\"x\":[0.05,0.04,0.083,0.08,0.07,0.0237,0.039,0.023653,0.03,0.008733,0.025007,0.0018,0.085],\"xaxis\":\"x2\",\"yaxis\":\"y2\"}],                        {\"barmode\":\"relative\",\"legend\":{\"title\":{\"text\":\"survey\"},\"tracegroupgap\":0},\"mapbox\":{\"style\":\"white-bg\"},\"margin\":{\"t\":60},\"template\":{\"data\":{\"bar\":[{\"error_x\":{\"color\":\"#2a3f5f\"},\"error_y\":{\"color\":\"#2a3f5f\"},\"marker\":{\"line\":{\"color\":\"#E5ECF6\",\"width\":0.5},\"pattern\":{\"fillmode\":\"overlay\",\"size\":10,\"solidity\":0.2}},\"type\":\"bar\"}],\"barpolar\":[{\"marker\":{\"line\":{\"color\":\"#E5ECF6\",\"width\":0.5},\"pattern\":{\"fillmode\":\"overlay\",\"size\":10,\"solidity\":0.2}},\"type\":\"barpolar\"}],\"carpet\":[{\"aaxis\":{\"endlinecolor\":\"#2a3f5f\",\"gridcolor\":\"white\",\"linecolor\":\"white\",\"minorgridcolor\":\"white\",\"startlinecolor\":\"#2a3f5f\"},\"baxis\":{\"endlinecolor\":\"#2a3f5f\",\"gridcolor\":\"white\",\"linecolor\":\"white\",\"minorgridcolor\":\"white\",\"startlinecolor\":\"#2a3f5f\"},\"type\":\"carpet\"}],\"choropleth\":[{\"colorbar\":{\"outlinewidth\":0,\"ticks\":\"\"},\"type\":\"choropleth\"}],\"contour\":[{\"colorbar\":{\"outlinewidth\":0,\"ticks\":\"\"},\"colorscale\":[[0.0,\"#0d0887\"],[0.1111111111111111,\"#46039f\"],[0.2222222222222222,\"#7201a8\"],[0.3333333333333333,\"#9c179e\"],[0.4444444444444444,\"#bd3786\"],[0.5555555555555556,\"#d8576b\"],[0.6666666666666666,\"#ed7953\"],[0.7777777777777778,\"#fb9f3a\"],[0.8888888888888888,\"#fdca26\"],[1.0,\"#f0f921\"]],\"type\":\"contour\"}],\"contourcarpet\":[{\"colorbar\":{\"outlinewidth\":0,\"ticks\":\"\"},\"type\":\"contourcarpet\"}],\"heatmap\":[{\"colorbar\":{\"outlinewidth\":0,\"ticks\":\"\"},\"colorscale\":[[0.0,\"#0d0887\"],[0.1111111111111111,\"#46039f\"],[0.2222222222222222,\"#7201a8\"],[0.3333333333333333,\"#9c179e\"],[0.4444444444444444,\"#bd3786\"],[0.5555555555555556,\"#d8576b\"],[0.6666666666666666,\"#ed7953\"],[0.7777777777777778,\"#fb9f3a\"],[0.8888888888888888,\"#fdca26\"],[1.0,\"#f0f921\"]],\"type\":\"heatmap\"}],\"heatmapgl\":[{\"colorbar\":{\"outlinewidth\":0,\"ticks\":\"\"},\"colorscale\":[[0.0,\"#0d0887\"],[0.1111111111111111,\"#46039f\"],[0.2222222222222222,\"#7201a8\"],[0.3333333333333333,\"#9c179e\"],[0.4444444444444444,\"#bd3786\"],[0.5555555555555556,\"#d8576b\"],[0.6666666666666666,\"#ed7953\"],[0.7777777777777778,\"#fb9f3a\"],[0.8888888888888888,\"#fdca26\"],[1.0,\"#f0f921\"]],\"type\":\"heatmapgl\"}],\"histogram\":[{\"marker\":{\"pattern\":{\"fillmode\":\"overlay\",\"size\":10,\"solidity\":0.2}},\"type\":\"histogram\"}],\"histogram2d\":[{\"colorbar\":{\"outlinewidth\":0,\"ticks\":\"\"},\"colorscale\":[[0.0,\"#0d0887\"],[0.1111111111111111,\"#46039f\"],[0.2222222222222222,\"#7201a8\"],[0.3333333333333333,\"#9c179e\"],[0.4444444444444444,\"#bd3786\"],[0.5555555555555556,\"#d8576b\"],[0.6666666666666666,\"#ed7953\"],[0.7777777777777778,\"#fb9f3a\"],[0.8888888888888888,\"#fdca26\"],[1.0,\"#f0f921\"]],\"type\":\"histogram2d\"}],\"histogram2dcontour\":[{\"colorbar\":{\"outlinewidth\":0,\"ticks\":\"\"},\"colorscale\":[[0.0,\"#0d0887\"],[0.1111111111111111,\"#46039f\"],[0.2222222222222222,\"#7201a8\"],[0.3333333333333333,\"#9c179e\"],[0.4444444444444444,\"#bd3786\"],[0.5555555555555556,\"#d8576b\"],[0.6666666666666666,\"#ed7953\"],[0.7777777777777778,\"#fb9f3a\"],[0.8888888888888888,\"#fdca26\"],[1.0,\"#f0f921\"]],\"type\":\"histogram2dcontour\"}],\"mesh3d\":[{\"colorbar\":{\"outlinewidth\":0,\"ticks\":\"\"},\"type\":\"mesh3d\"}],\"parcoords\":[{\"line\":{\"colorbar\":{\"outlinewidth\":0,\"ticks\":\"\"}},\"type\":\"parcoords\"}],\"pie\":[{\"automargin\":true,\"type\":\"pie\"}],\"scatter\":[{\"marker\":{\"colorbar\":{\"outlinewidth\":0,\"ticks\":\"\"}},\"type\":\"scatter\"}],\"scatter3d\":[{\"line\":{\"colorbar\":{\"outlinewidth\":0,\"ticks\":\"\"}},\"marker\":{\"colorbar\":{\"outlinewidth\":0,\"ticks\":\"\"}},\"type\":\"scatter3d\"}],\"scattercarpet\":[{\"marker\":{\"colorbar\":{\"outlinewidth\":0,\"ticks\":\"\"}},\"type\":\"scattercarpet\"}],\"scattergeo\":[{\"marker\":{\"colorbar\":{\"outlinewidth\":0,\"ticks\":\"\"}},\"type\":\"scattergeo\"}],\"scattergl\":[{\"marker\":{\"colorbar\":{\"outlinewidth\":0,\"ticks\":\"\"}},\"type\":\"scattergl\"}],\"scattermapbox\":[{\"marker\":{\"colorbar\":{\"outlinewidth\":0,\"ticks\":\"\"}},\"type\":\"scattermapbox\"}],\"scatterpolar\":[{\"marker\":{\"colorbar\":{\"outlinewidth\":0,\"ticks\":\"\"}},\"type\":\"scatterpolar\"}],\"scatterpolargl\":[{\"marker\":{\"colorbar\":{\"outlinewidth\":0,\"ticks\":\"\"}},\"type\":\"scatterpolargl\"}],\"scatterternary\":[{\"marker\":{\"colorbar\":{\"outlinewidth\":0,\"ticks\":\"\"}},\"type\":\"scatterternary\"}],\"surface\":[{\"colorbar\":{\"outlinewidth\":0,\"ticks\":\"\"},\"colorscale\":[[0.0,\"#0d0887\"],[0.1111111111111111,\"#46039f\"],[0.2222222222222222,\"#7201a8\"],[0.3333333333333333,\"#9c179e\"],[0.4444444444444444,\"#bd3786\"],[0.5555555555555556,\"#d8576b\"],[0.6666666666666666,\"#ed7953\"],[0.7777777777777778,\"#fb9f3a\"],[0.8888888888888888,\"#fdca26\"],[1.0,\"#f0f921\"]],\"type\":\"surface\"}],\"table\":[{\"cells\":{\"fill\":{\"color\":\"#EBF0F8\"},\"line\":{\"color\":\"white\"}},\"header\":{\"fill\":{\"color\":\"#C8D4E3\"},\"line\":{\"color\":\"white\"}},\"type\":\"table\"}]},\"layout\":{\"annotationdefaults\":{\"arrowcolor\":\"#2a3f5f\",\"arrowhead\":0,\"arrowwidth\":1},\"autotypenumbers\":\"strict\",\"coloraxis\":{\"colorbar\":{\"outlinewidth\":0,\"ticks\":\"\"}},\"colorscale\":{\"diverging\":[[0,\"#8e0152\"],[0.1,\"#c51b7d\"],[0.2,\"#de77ae\"],[0.3,\"#f1b6da\"],[0.4,\"#fde0ef\"],[0.5,\"#f7f7f7\"],[0.6,\"#e6f5d0\"],[0.7,\"#b8e186\"],[0.8,\"#7fbc41\"],[0.9,\"#4d9221\"],[1,\"#276419\"]],\"sequential\":[[0.0,\"#0d0887\"],[0.1111111111111111,\"#46039f\"],[0.2222222222222222,\"#7201a8\"],[0.3333333333333333,\"#9c179e\"],[0.4444444444444444,\"#bd3786\"],[0.5555555555555556,\"#d8576b\"],[0.6666666666666666,\"#ed7953\"],[0.7777777777777778,\"#fb9f3a\"],[0.8888888888888888,\"#fdca26\"],[1.0,\"#f0f921\"]],\"sequentialminus\":[[0.0,\"#0d0887\"],[0.1111111111111111,\"#46039f\"],[0.2222222222222222,\"#7201a8\"],[0.3333333333333333,\"#9c179e\"],[0.4444444444444444,\"#bd3786\"],[0.5555555555555556,\"#d8576b\"],[0.6666666666666666,\"#ed7953\"],[0.7777777777777778,\"#fb9f3a\"],[0.8888888888888888,\"#fdca26\"],[1.0,\"#f0f921\"]]},\"colorway\":[\"#636efa\",\"#EF553B\",\"#00cc96\",\"#ab63fa\",\"#FFA15A\",\"#19d3f3\",\"#FF6692\",\"#B6E880\",\"#FF97FF\",\"#FECB52\"],\"font\":{\"color\":\"#2a3f5f\"},\"geo\":{\"bgcolor\":\"white\",\"lakecolor\":\"white\",\"landcolor\":\"#E5ECF6\",\"showlakes\":true,\"showland\":true,\"subunitcolor\":\"white\"},\"hoverlabel\":{\"align\":\"left\"},\"hovermode\":\"closest\",\"mapbox\":{\"style\":\"light\"},\"paper_bgcolor\":\"white\",\"plot_bgcolor\":\"#E5ECF6\",\"polar\":{\"angularaxis\":{\"gridcolor\":\"white\",\"linecolor\":\"white\",\"ticks\":\"\"},\"bgcolor\":\"#E5ECF6\",\"radialaxis\":{\"gridcolor\":\"white\",\"linecolor\":\"white\",\"ticks\":\"\"}},\"scene\":{\"xaxis\":{\"backgroundcolor\":\"#E5ECF6\",\"gridcolor\":\"white\",\"gridwidth\":2,\"linecolor\":\"white\",\"showbackground\":true,\"ticks\":\"\",\"zerolinecolor\":\"white\"},\"yaxis\":{\"backgroundcolor\":\"#E5ECF6\",\"gridcolor\":\"white\",\"gridwidth\":2,\"linecolor\":\"white\",\"showbackground\":true,\"ticks\":\"\",\"zerolinecolor\":\"white\"},\"zaxis\":{\"backgroundcolor\":\"#E5ECF6\",\"gridcolor\":\"white\",\"gridwidth\":2,\"linecolor\":\"white\",\"showbackground\":true,\"ticks\":\"\",\"zerolinecolor\":\"white\"}},\"shapedefaults\":{\"line\":{\"color\":\"#2a3f5f\"}},\"ternary\":{\"aaxis\":{\"gridcolor\":\"white\",\"linecolor\":\"white\",\"ticks\":\"\"},\"baxis\":{\"gridcolor\":\"white\",\"linecolor\":\"white\",\"ticks\":\"\"},\"bgcolor\":\"#E5ECF6\",\"caxis\":{\"gridcolor\":\"white\",\"linecolor\":\"white\",\"ticks\":\"\"}},\"title\":{\"x\":0.05},\"xaxis\":{\"automargin\":true,\"gridcolor\":\"white\",\"linecolor\":\"white\",\"ticks\":\"\",\"title\":{\"standoff\":15},\"zerolinecolor\":\"white\",\"zerolinewidth\":2},\"yaxis\":{\"automargin\":true,\"gridcolor\":\"white\",\"linecolor\":\"white\",\"ticks\":\"\",\"title\":{\"standoff\":15},\"zerolinecolor\":\"white\",\"zerolinewidth\":2}}},\"xaxis\":{\"anchor\":\"y\",\"domain\":[0.0,1.0],\"title\":{\"text\":\"redshift\"}},\"xaxis2\":{\"anchor\":\"y2\",\"domain\":[0.0,1.0],\"matches\":\"x\",\"showgrid\":true,\"showticklabels\":false},\"yaxis\":{\"anchor\":\"x\",\"domain\":[0.0,0.7326],\"title\":{\"text\":\"count\"}},\"yaxis2\":{\"anchor\":\"x2\",\"domain\":[0.7426,1.0],\"matches\":\"y2\",\"showgrid\":false,\"showline\":false,\"showticklabels\":false,\"ticks\":\"\"}},                        {\"responsive\": true}                    ).then(function(){\n",
       "                            \n",
       "var gd = document.getElementById('62ea0eb9-3860-4d32-b585-c92a5d564dc1');\n",
       "var x = new MutationObserver(function (mutations, observer) {{\n",
       "        var display = window.getComputedStyle(gd).display;\n",
       "        if (!display || display === 'none') {{\n",
       "            console.log([gd, 'removed!']);\n",
       "            Plotly.purge(gd);\n",
       "            observer.disconnect();\n",
       "        }}\n",
       "}});\n",
       "\n",
       "// Listen for the removal of the full notebook cells\n",
       "var notebookContainer = gd.closest('#notebook-container');\n",
       "if (notebookContainer) {{\n",
       "    x.observe(notebookContainer, {childList: true});\n",
       "}}\n",
       "\n",
       "// Listen for the clearing of the current output cell\n",
       "var outputEl = gd.closest('.output');\n",
       "if (outputEl) {{\n",
       "    x.observe(outputEl, {childList: true});\n",
       "}}\n",
       "\n",
       "                        })                };                });            </script>        </div>"
      ]
     },
     "metadata": {},
     "output_type": "display_data"
    }
   ],
   "source": [
    "mapfig = = px.scatter_mapbox(dft, lat=\"lat\", lon=\"lon\", hover_name=\"City\", hover_data=[\"State\", \"Population\"],\n",
    "                        color_discrete_sequence=[\"fuchsia\"], zoom=3, height=300)\n",
    "fig.update_layout(\n",
    "mapfig.update_layout(mapbox_style=\"white-bg\")"
   ]
  }
 ],
 "metadata": {
  "kernelspec": {
   "display_name": "Python 3",
   "language": "python",
   "name": "python3"
  },
  "language_info": {
   "codemirror_mode": {
    "name": "ipython",
    "version": 3
   },
   "file_extension": ".py",
   "mimetype": "text/x-python",
   "name": "python",
   "nbconvert_exporter": "python",
   "pygments_lexer": "ipython3",
   "version": "3.7.7"
  }
 },
 "nbformat": 4,
 "nbformat_minor": 4
}
